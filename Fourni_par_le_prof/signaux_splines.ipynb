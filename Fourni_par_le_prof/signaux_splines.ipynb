{
 "cells": [
  {
   "cell_type": "code",
   "execution_count": 2,
   "metadata": {},
   "outputs": [
    {
     "name": "stdout",
     "output_type": "stream",
     "text": [
      "Using matplotlib backend: Qt5Agg\n"
     ]
    }
   ],
   "source": [
    "import numpy as np\n",
    "import scipy as sp\n",
    "import scipy.signal\n",
    "import matplotlib.pyplot as plt\n",
    "\n",
    "%matplotlib"
   ]
  },
  {
   "cell_type": "markdown",
   "metadata": {},
   "source": [
    "# Functions"
   ]
  },
  {
   "cell_type": "code",
   "execution_count": 3,
   "metadata": {},
   "outputs": [],
   "source": [
    "def stationary_signal(shape, regularity, noise_func=lambda x: x):\n",
    "    \"\"\"\n",
    "    Create samples from stationary signal.\n",
    "    \n",
    "    Parameters\n",
    "    ----------\n",
    "    shape : tuple\n",
    "        Number of samples in 1D or 2D.\n",
    "    regularity : float\n",
    "        Scalar number between 0 and 1 to control the regularity of \n",
    "        the sampled signal; 0 being close to random whereas 1 being\n",
    "        spatially highly correlated.\n",
    "    noise_func : function\n",
    "        Add noise to samples according to function, defaut is no \n",
    "        noise added.\n",
    "    \n",
    "    Returns\n",
    "    -------\n",
    "    pts : tuple of numpy vectors\n",
    "        x and y coordinates of the samples.\n",
    "    Zi : numpy array \n",
    "        Array of samples with size shape.\n",
    "    f : scipy interpolation function\n",
    "        analytic spline function which outputs the samples.\n",
    "    \n",
    "    Examples\n",
    "    --------\n",
    "    # 1d case example with 20 non noisy samples at 0.6 regularity\n",
    "    >>> x, z, f = stationary_signal((20,), 0.6)\n",
    "    # plot results\n",
    "    >>> plt.plot(x, z, 'bx', label='samples')\n",
    "    >>> xi = np.arange(0, 1+0.01, 0.01)\n",
    "    >>> plt.plot(xi, f(xi), 'r', label='analytic function')\n",
    "    >>> plt.legend()\n",
    "    \"\"\"\n",
    "    # init\n",
    "    shape = (shape[0], 1) if len(shape)==1 else shape\n",
    "    \n",
    "    # node points value of spline surface\n",
    "    shape_node = (int(4+(1-regularity)**2*shape[0]), \n",
    "                  int(4+(1-regularity)**2*shape[1]))\n",
    "    Z = np.random.randn(*shape_node)\n",
    "    \n",
    "    # interpolation\n",
    "    x, y = np.arange(0, shape_node[1])/(max(shape_node)-1), \\\n",
    "           np.arange(0, shape_node[0])/(max(shape_node)-1)\n",
    "    xi, yi = np.linspace(0, shape_node[1]-1, shape[1])/(max(shape_node)-1), \\\n",
    "             np.linspace(0, shape_node[0]-1, shape[0])/(max(shape_node)-1)\n",
    "    f = sp.interpolate.RectBivariateSpline(y, x, Z)\n",
    "    Zi = f(yi, xi)\n",
    "    \n",
    "    # reshape\n",
    "    if shape[0]==1 or shape[1]==1:\n",
    "        pts = xi if shape[0]==1 else yi\n",
    "        Zi = Zi.flatten()\n",
    "        f = sp.interpolate.interp1d(pts, Zi, kind='cubic', \n",
    "                                    fill_value=\"extrapolate\")\n",
    "    else:\n",
    "        pts = (xi, yi)\n",
    "    \n",
    "    return pts, noise_func(Zi), f"
   ]
  },
  {
   "cell_type": "code",
   "execution_count": 4,
   "metadata": {},
   "outputs": [],
   "source": [
    "def non_stationary_signal(shape, walk_prob=0.02, switch_prob=0.1, noise_func=lambda x: x):\n",
    "    \"\"\"\n",
    "    Create stationary signal samples.\n",
    "    \n",
    "    Parameters\n",
    "    ----------\n",
    "    shape : tuple\n",
    "        Number of samples in 1D or 2D.\n",
    "    walk_prob : float\n",
    "        Positive scalar number to control smoothness in stationary\n",
    "        states.\n",
    "    switch_prob : float\n",
    "        Positive scalar number between 0 and 1 to tune frequency\n",
    "        of transition between stationary states.\n",
    "    noise_func : function\n",
    "        Add noise to samples according to function, defaut is no \n",
    "        noise added.\n",
    "    \n",
    "    Returns\n",
    "    -------\n",
    "    pts : tuple of numpy vectors\n",
    "        x and y coordinates of the samples.\n",
    "    Z : numpy array \n",
    "        Array of samples with size shape.\n",
    "    f : scipy interpolation function\n",
    "        analytic spline function which outputs the samples.\n",
    "    \n",
    "    Examples\n",
    "    --------\n",
    "    # 1d case example with 40 non noisy samples\n",
    "    >>> x, z, f = non_stationary_signal((40,), switch_prob=0.2)\n",
    "    # plot results\n",
    "    >>> plt.plot(x, z, 'bx', label='samples')\n",
    "    >>> xi = np.arange(0, 1+0.01, 0.01)\n",
    "    >>> plt.plot(xi, f(xi), 'r', label='analytic function')\n",
    "    >>> plt.legend()\n",
    "    \n",
    "    \"\"\"\n",
    "    # init\n",
    "    shape = (shape[0], 1) if len(shape)==1 else shape\n",
    "    \n",
    "    # first dimension\n",
    "    z_x = np.zeros(shape[0])\n",
    "    z_x[0] = np.random.randn()\n",
    "    for x in range(1, shape[0]):\n",
    "        w = int(np.random.rand()<switch_prob)\n",
    "        z_x[x] = (1-w)*(z_x[x-1]+walk_prob*np.random.randn())+w*np.random.randn()\n",
    "    \n",
    "    # second dimension\n",
    "    z_y = np.zeros(shape[1])\n",
    "    z_y[0] = np.random.randn()\n",
    "    for y in range(1, shape[1]):\n",
    "        w = int(np.random.rand()<switch_prob)\n",
    "        z_y[y] = (1-w)*(z_y[y-1]+walk_prob*np.random.randn())+w*np.random.randn()\n",
    "    \n",
    "    # outer product and spline function\n",
    "    Z = np.outer(z_x, z_y)\n",
    "    x, y = np.linspace(0, 1, shape[1]), np.linspace(0, 1, shape[0])\n",
    "    \n",
    "    if shape[0]==1 or shape[1]==1:\n",
    "        Z = Z.flatten()\n",
    "        pts = np.linspace(0, 1, Z.size)\n",
    "        f = sp.interpolate.interp1d(pts, Z, kind='cubic')\n",
    "    else:\n",
    "        pts = (x, y)\n",
    "        f = sp.interpolate.RectBivariateSpline(y, x, Z)\n",
    "        \n",
    "    return pts, noise_func(Z), f"
   ]
  },
  {
   "cell_type": "code",
   "execution_count": 5,
   "metadata": {},
   "outputs": [],
   "source": [
    "def add_bivariate_noise(x, std1, ratio=20, prob=0.15):\n",
    "    \"\"\"\n",
    "    Add bivariate normal noise to x.\n",
    "    \n",
    "    Parameters\n",
    "    ----------\n",
    "    x : numpy array\n",
    "        Samples to which noise is added.\n",
    "    std1 : float\n",
    "        Positive scalar value, standard deviation of first distribution.\n",
    "    ratio : float\n",
    "        Positive scalar value, ratio between standard deviations of second\n",
    "        and first distributions.\n",
    "    prob : float\n",
    "        Scalar number between 0 and 1, switching probability value between\n",
    "        the two distributions.\n",
    "        \n",
    "    Returns\n",
    "    -------\n",
    "    numpy array of noisy samples.\n",
    "    \n",
    "    \n",
    "    Examples\n",
    "    --------\n",
    "    # 1d case example with 20 non noisy samples at 0.6 regularity\n",
    "    >>> x, z, f = stationary_signal((20,), 0.6)\n",
    "    # add noise with std1=0.1\n",
    "    >>> zn = add_bivariate_noise(z, 0.1)\n",
    "    # plot results\n",
    "    >>> plt.plot(x, z, 'bx', label='samples')\n",
    "    >>> plt.plot(x, zn, 'ko', label='noisy samples')\n",
    "    >>> xi = np.arange(0, 1+0.01, 0.01)\n",
    "    >>> plt.plot(xi, f(xi), 'r', label='analytic function')\n",
    "    >>> plt.legend()\n",
    "    \"\"\"\n",
    "    # first distribution random values \n",
    "    noise1 = std1*np.random.randn(*x.shape)\n",
    "    \n",
    "    # second distribution random values\n",
    "    noise2 = ratio*std1*np.random.randn(*x.shape)\n",
    "    \n",
    "    # boolean draw and bivariate noise\n",
    "    W = np.random.rand(*x.shape)>prob\n",
    "    noise = noise1*W+noise2*~W\n",
    "    \n",
    "    return x+noise"
   ]
  },
  {
   "cell_type": "code",
   "execution_count": 6,
   "metadata": {},
   "outputs": [],
   "source": [
    "def add_student_noise(x, std, df=1.5):\n",
    "    \"\"\"\n",
    "    Add to x noise drawn with student's t distribution.\n",
    "    \n",
    "    Parameters\n",
    "    ----------\n",
    "    x : numpy array\n",
    "        Samples to which noise is added.\n",
    "    std : float\n",
    "        Positive scalar value, standard deviation of the distribution.\n",
    "    df : float\n",
    "        Positive scalar value, degree of freedom. Distribution gets closer\n",
    "        to normal as df goes to infinity.\n",
    "        \n",
    "    Returns\n",
    "    -------\n",
    "    numpy array of noisy samples.\n",
    "    \n",
    "    \n",
    "    Examples\n",
    "    --------\n",
    "    # 1d case example with 20 non noisy samples at 0.6 regularity\n",
    "    >>> x, z, f = stationary_signal((20,), 0.6)\n",
    "    # add noise with std1=0.1\n",
    "    >>> zn = add_student_noise(z, 0.1)\n",
    "    # plot results\n",
    "    >>> plt.plot(x, z, 'bx', label='samples')\n",
    "    >>> plt.plot(x, zn, 'ko', label='noisy samples')\n",
    "    >>> xi = np.arange(0, 1+0.01, 0.01)\n",
    "    >>> plt.plot(xi, f(xi), 'r', label='analytic function')\n",
    "    >>> plt.legend()\n",
    "    \"\"\"\n",
    "    # distribution random values \n",
    "    noise = std*np.random.standard_t(df, size=x.shape)\n",
    "    \n",
    "    return x+noise"
   ]
  },
  {
   "cell_type": "markdown",
   "metadata": {},
   "source": [
    "# Tests"
   ]
  },
  {
   "cell_type": "markdown",
   "metadata": {},
   "source": [
    "## stationnaire"
   ]
  },
  {
   "cell_type": "code",
   "execution_count": 18,
   "metadata": {},
   "outputs": [],
   "source": [
    "# definition de la fonction de bruit avec ecart type à 0.05 et probabilité de switch à 15%\n",
    "nfunc = lambda x: add_bivariate_noise(x, 0.05, prob=0.15)"
   ]
  },
  {
   "cell_type": "code",
   "execution_count": 19,
   "metadata": {},
   "outputs": [],
   "source": [
    "# signal stationnaire bruité de 30 points et régularité à 0.9\n",
    "x1, z1, f1 = stationary_signal((30,), 0.9, noise_func=nfunc)\n",
    "# signal stationnaire bruité de 30 points et régularité à 0.5\n",
    "x2, z2, f2 = stationary_signal((30,), 0.5, noise_func=nfunc)"
   ]
  },
  {
   "cell_type": "code",
   "execution_count": 22,
   "metadata": {},
   "outputs": [
    {
     "data": {
      "text/plain": [
       "<matplotlib.legend.Legend at 0x2b32f39fe88>"
      ]
     },
     "execution_count": 22,
     "metadata": {},
     "output_type": "execute_result"
    }
   ],
   "source": [
    "# affichage\n",
    "xi = np.linspace(0, 1, 100)\n",
    "fig, axs = plt.subplots(2, 1)\n",
    "axs[0].plot(x1, z1, 'rx', label='mesures')\n",
    "axs[0].plot(xi, f1(xi), 'b', label='signal')\n",
    "axs[0].legend()\n",
    "axs[1].plot(x2, z2, 'rx', label='mesures')\n",
    "axs[1].plot(xi, f2(xi), 'b', label='signal')\n",
    "axs[1].legend()"
   ]
  },
  {
   "cell_type": "markdown",
   "metadata": {},
   "source": [
    "## non stationnaire"
   ]
  },
  {
   "cell_type": "code",
   "execution_count": 30,
   "metadata": {},
   "outputs": [],
   "source": [
    "# definition de la fonction de bruit avec ecart type à 0.01\n",
    "nfunc = lambda x: add_student_noise(x, 0.03)"
   ]
  },
  {
   "cell_type": "code",
   "execution_count": 33,
   "metadata": {},
   "outputs": [],
   "source": [
    "# signal non stationnaire bruité de 30 points\n",
    "x1, z1, f1 = non_stationary_signal((30,), switch_prob=0.1, noise_func=nfunc)\n",
    "# signal non stationnaire bruité de 30 points et probabilité de switch plus grande\n",
    "x2, z2, f2 = non_stationary_signal((30,), switch_prob=0.2, noise_func=nfunc)"
   ]
  },
  {
   "cell_type": "code",
   "execution_count": 35,
   "metadata": {},
   "outputs": [
    {
     "data": {
      "text/plain": [
       "<matplotlib.legend.Legend at 0x2b332ebf408>"
      ]
     },
     "execution_count": 35,
     "metadata": {},
     "output_type": "execute_result"
    }
   ],
   "source": [
    "# affichage\n",
    "xi = np.linspace(0, 1, 100)\n",
    "fig, axs = plt.subplots(2, 1)\n",
    "axs[0].plot(x1, z1, 'rx', label='mesures')\n",
    "axs[0].plot(xi, f1(xi), 'b', label='signal')\n",
    "axs[0].legend()\n",
    "axs[1].plot(x2, z2, 'rx', label='mesures')\n",
    "axs[1].plot(xi, f2(xi), 'b', label='signal')\n",
    "axs[1].legend()"
   ]
  },
  {
   "cell_type": "code",
   "execution_count": null,
   "metadata": {},
   "outputs": [],
   "source": []
  }
 ],
 "metadata": {
  "kernelspec": {
   "display_name": "Python 3",
   "language": "python",
   "name": "python3"
  },
  "language_info": {
   "codemirror_mode": {
    "name": "ipython",
    "version": 3
   },
   "file_extension": ".py",
   "mimetype": "text/x-python",
   "name": "python",
   "nbconvert_exporter": "python",
   "pygments_lexer": "ipython3",
   "version": "3.7.6"
  }
 },
 "nbformat": 4,
 "nbformat_minor": 2
}
